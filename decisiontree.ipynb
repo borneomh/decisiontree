{
  "nbformat": 4,
  "nbformat_minor": 0,
  "metadata": {
    "colab": {
      "name": "decisiontree.ipynb",
      "provenance": [],
      "authorship_tag": "ABX9TyNRAzK8zI4WfMLnaeRlO6+a",
      "include_colab_link": true
    },
    "kernelspec": {
      "name": "python3",
      "display_name": "Python 3"
    },
    "language_info": {
      "name": "python"
    }
  },
  "cells": [
    {
      "cell_type": "markdown",
      "metadata": {
        "id": "view-in-github",
        "colab_type": "text"
      },
      "source": [
        "<a href=\"https://colab.research.google.com/github/borneomh/decisiontree/blob/main/decisiontree.ipynb\" target=\"_parent\"><img src=\"https://colab.research.google.com/assets/colab-badge.svg\" alt=\"Open In Colab\"/></a>"
      ]
    },
    {
      "cell_type": "code",
      "metadata": {
        "id": "r4S9f4m37wdq"
      },
      "source": [
        "import numpy as np\n",
        "import pandas as pd\n",
        "from sklearn import tree"
      ],
      "execution_count": 34,
      "outputs": []
    },
    {
      "cell_type": "code",
      "metadata": {
        "id": "miCEhSZ48QGx"
      },
      "source": [
        "teamvDataset = pd.read_csv('DatasetTeamValue.csv', \n",
        "                          delimiter=',', header=0)"
      ],
      "execution_count": 35,
      "outputs": []
    },
    {
      "cell_type": "code",
      "metadata": {
        "id": "aBsNhLV7FdAu"
      },
      "source": [
        "#mengubah (kolom \"Team_Value\") dari string ke unique-int\n",
        "teamvDataset[\"Team_Value\"] = pd.factorize(teamvDataset.Team_Value)[0]"
      ],
      "execution_count": 36,
      "outputs": []
    },
    {
      "cell_type": "code",
      "metadata": {
        "id": "RfdKv1S68voB"
      },
      "source": [
        "teamvDataset = teamvDataset.drop(labels=\"Player_Name\", axis=1)\n",
        "teamvDataset = teamvDataset.drop(labels=\"Position_ID\", axis=1)"
      ],
      "execution_count": 37,
      "outputs": []
    },
    {
      "cell_type": "code",
      "metadata": {
        "id": "FMEBc9hW9OK8"
      },
      "source": [
        "teamvDataset = teamvDataset.to_numpy()"
      ],
      "execution_count": 38,
      "outputs": []
    },
    {
      "cell_type": "code",
      "metadata": {
        "id": "QTPFv7Up_wwG"
      },
      "source": [
        "#membagi dataset, 40 baris data untuk training\n",
        "#dan 20 baris data untuk testing\n",
        "dataTraining = np.concatenate((teamvDataset[0:40,:],\n",
        "                               teamvDataset[50:90,:]), axis=0)\n",
        "dataTesting = np.concatenate((teamvDataset[40:50,:],\n",
        "                              teamvDataset[90:100,:]), axis=0)"
      ],
      "execution_count": 39,
      "outputs": []
    },
    {
      "cell_type": "code",
      "metadata": {
        "id": "2byhK2mwZL-J",
        "outputId": "66377661-765b-4e3b-9ef6-9c6897b9a26d",
        "colab": {
          "base_uri": "https://localhost:8080/"
        }
      },
      "source": [
        "print(dataTesting)\n",
        "len(dataTesting)"
      ],
      "execution_count": 40,
      "outputs": [
        {
          "output_type": "stream",
          "text": [
            "[[ 327   85    3   30   44   20   91  185   12    8 2140  568   16  216\n",
            "   208   93    1]\n",
            " [ 584  158   15   70   84   42  331   20    4    5 2358  636   58  265\n",
            "   316  134    2]\n",
            " [ 387  124    1   67   27   36  186  290   17    7 1775  506    6  272\n",
            "   125  194    2]\n",
            " [ 600  139    0   94   29   60  300   12    9    2 1236  309    1  201\n",
            "    69  110    3]\n",
            " [ 288   63    3   25   33   16  135  257    7   10 2682  667   38  315\n",
            "   259  204    1]\n",
            " [ 504  120   28   71   71   54  103  283   19    3 1085  259   54  150\n",
            "   167  114    3]\n",
            " [ 510  147   10   56   52   53  810   99   18    7 2872  821   63  307\n",
            "   340  174    0]\n",
            " [ 583  168   17   83   80   56  109  292   25    5 1646  452   44  219\n",
            "   208  136    2]\n",
            " [ 415  115   27   97   71   68  274    2    7    3  711  184   45  156\n",
            "   119   99    1]\n",
            " [ 268   60    5   24   25   15  442   59    6    2  350   78    5   34\n",
            "    29   18    3]\n",
            " [ 585  139   31   93   94   62    0    0    0   17 7546 1982  315 1141\n",
            "  1179  727    0]\n",
            " [ 591  184   20   83   79   38  303   12    5    5 1689  462   40  219\n",
            "   195   82    2]\n",
            " [ 496  119    8   57   33   21  155  371   29    7 3358  882   36  365\n",
            "   280  165    0]\n",
            " [ 329   83    9   50   39   56  276    6    2    9 3828  948  145  575\n",
            "   528  635    2]\n",
            " [ 618  200   20   98  110   62  330   16    8   13 7127 2163  351 1104\n",
            "  1289  564    0]\n",
            " [ 513  137   20   90   95   90  267    5    3   14 5201 1382  166  763\n",
            "   734  784    0]\n",
            " [ 408   94    4   42   36   66  282  487   19    9 3573  866   59  429\n",
            "   365  410    2]\n",
            " [ 441  118   28   84   86   68  190    2    2    8 2723  750  126  433\n",
            "   420  309    0]\n",
            " [ 209   54    3   25   14   12  102    6    3    1  209   54    3   25\n",
            "    14   12    3]\n",
            " [ 282   78   13   37   51   29  670   57    5    5 1649  453   73  211\n",
            "   280  138    2]]\n"
          ],
          "name": "stdout"
        },
        {
          "output_type": "execute_result",
          "data": {
            "text/plain": [
              "20"
            ]
          },
          "metadata": {
            "tags": []
          },
          "execution_count": 40
        }
      ]
    },
    {
      "cell_type": "code",
      "metadata": {
        "id": "Jx-xbyrKATzc"
      },
      "source": [
        "#memecah dataset ke input dan label\n",
        "inputTraining = dataTraining[:,0:-1]\n",
        "inputTesting = dataTesting[:,0:-1]\n",
        "labelTraining = dataTraining[:,-1]\n",
        "labelTesting = dataTesting[:,-1]"
      ],
      "execution_count": 41,
      "outputs": []
    },
    {
      "cell_type": "code",
      "metadata": {
        "colab": {
          "base_uri": "https://localhost:8080/"
        },
        "id": "M-qjxOycDe6a",
        "outputId": "dd59e7f4-e3dc-4656-df28-5ea4d88dcfaf"
      },
      "source": [
        "#medefinisikan decision tree classifier\n",
        "model = tree.DecisionTreeClassifier()\n",
        "#mentraining model\n",
        "model = model.fit(inputTraining, labelTraining)\n",
        "#memprediksi input data testing\n",
        "hasilPrediksi = model.predict(inputTesting)\n",
        "print(\"label sebenarnya\", labelTesting)\n",
        "print(\"label prediksi : \", hasilPrediksi)\n",
        "#menghitung akurasi\n",
        "prediksiBenar = (hasilPrediksi == labelTesting).sum()\n",
        "prediksiSalah = (hasilPrediksi != labelTesting).sum()\n",
        "print(\"Prediksi benar: \", prediksiBenar, \"data\")\n",
        "print(\"Prediksi salah: \", prediksiSalah, \"data\")\n",
        "print(\"akurasi: \", prediksiBenar/(prediksiBenar+prediksiSalah)\n",
        "      * 100,\"%\")"
      ],
      "execution_count": 42,
      "outputs": [
        {
          "output_type": "stream",
          "text": [
            "label sebenarnya [1 2 2 3 1 3 0 2 1 3 0 2 0 2 0 0 2 0 3 2]\n",
            "label prediksi :  [1 2 1 2 1 1 0 2 3 3 0 2 3 2 0 0 2 2 3 2]\n",
            "Prediksi benar:  14 data\n",
            "Prediksi salah:  6 data\n",
            "akurasi:  70.0 %\n"
          ],
          "name": "stdout"
        }
      ]
    }
  ]
}