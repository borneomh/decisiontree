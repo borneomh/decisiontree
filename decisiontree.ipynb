{
  "nbformat": 4,
  "nbformat_minor": 0,
  "metadata": {
    "colab": {
      "name": "decisiontree.ipynb",
      "provenance": [],
      "authorship_tag": "ABX9TyOPT93xvusE/vCdxiv25+AV",
      "include_colab_link": true
    },
    "kernelspec": {
      "name": "python3",
      "display_name": "Python 3"
    },
    "language_info": {
      "name": "python"
    }
  },
  "cells": [
    {
      "cell_type": "markdown",
      "metadata": {
        "id": "view-in-github",
        "colab_type": "text"
      },
      "source": [
        "<a href=\"https://colab.research.google.com/github/borneomh/decisiontree/blob/main/decisiontree.ipynb\" target=\"_parent\"><img src=\"https://colab.research.google.com/assets/colab-badge.svg\" alt=\"Open In Colab\"/></a>"
      ]
    },
    {
      "cell_type": "code",
      "metadata": {
        "id": "r4S9f4m37wdq"
      },
      "source": [
        "import numpy as np\n",
        "import pandas as pd\n",
        "from sklearn import tree"
      ],
      "execution_count": 81,
      "outputs": []
    },
    {
      "cell_type": "code",
      "metadata": {
        "id": "miCEhSZ48QGx"
      },
      "source": [
        "teamvDataset = pd.read_csv('DatasetTeamValue.csv', \n",
        "                          delimiter=',', header=0)"
      ],
      "execution_count": 82,
      "outputs": []
    },
    {
      "cell_type": "code",
      "metadata": {
        "id": "aBsNhLV7FdAu"
      },
      "source": [
        "teamvDataset[\"Team_Value\"] = pd.factorize(teamvDataset.Team_Value)[0]"
      ],
      "execution_count": 83,
      "outputs": []
    },
    {
      "cell_type": "code",
      "metadata": {
        "id": "RfdKv1S68voB"
      },
      "source": [
        "teamvDataset = teamvDataset.drop(labels=\"Player_Name\", axis=1)\n",
        "teamvDataset = teamvDataset.drop(labels=\"Position_ID\", axis=1)"
      ],
      "execution_count": 84,
      "outputs": []
    },
    {
      "cell_type": "code",
      "metadata": {
        "id": "FMEBc9hW9OK8"
      },
      "source": [
        "teamvDataset = teamvDataset.to_numpy()"
      ],
      "execution_count": 85,
      "outputs": []
    },
    {
      "cell_type": "code",
      "metadata": {
        "id": "QTPFv7Up_wwG"
      },
      "source": [
        "dataTraining = np.concatenate((teamvDataset[0:40,:],\n",
        "                               teamvDataset[50:90,:]), axis=0)\n",
        "dataTesting = np.concatenate((teamvDataset[40:50,:],\n",
        "                              teamvDataset[90:100,:]), axis=0)"
      ],
      "execution_count": 86,
      "outputs": []
    },
    {
      "cell_type": "code",
      "metadata": {
        "id": "Jx-xbyrKATzc"
      },
      "source": [
        "inputTraining = dataTraining[:,0:-1]\n",
        "inputTesting = dataTesting[:,0:-1]\n",
        "labelTraining = dataTraining[:,-1]\n",
        "labelTesting = dataTesting[:,-1]"
      ],
      "execution_count": 87,
      "outputs": []
    },
    {
      "cell_type": "code",
      "metadata": {
        "colab": {
          "base_uri": "https://localhost:8080/"
        },
        "id": "M-qjxOycDe6a",
        "outputId": "8785427f-9af8-4931-a565-af73c77d2812"
      },
      "source": [
        "\n",
        "model = tree.DecisionTreeClassifier()\n",
        "\n",
        "model = model.fit(inputTraining, labelTraining)\n",
        "\n",
        "hasilPrediksi = model.predict(inputTesting)\n",
        "print(\"label sebenarnya\", labelTesting)\n",
        "print(\"label prediksi : \", hasilPrediksi)\n",
        "\n",
        "prediksiBenar = (hasilPrediksi == labelTesting).sum()\n",
        "prediksiSalah = (hasilPrediksi != labelTesting).sum()\n",
        "print(\"Prediksi benar: \", prediksiBenar, \"data\")\n",
        "print(\"Prediksi salah: \", prediksiSalah, \"data\")\n",
        "print(\"akurasi: \", prediksiBenar/(prediksiBenar+prediksiSalah)\n",
        "      * 100,\"%\")"
      ],
      "execution_count": 88,
      "outputs": [
        {
          "output_type": "stream",
          "text": [
            "label sebenarnya [1 2 2 3 1 3 0 2 1 3 0 2 0 2 0 0 2 0 3 2]\n",
            "label prediksi :  [1 2 1 2 1 1 0 2 3 3 0 2 1 2 0 0 2 2 3 2]\n",
            "Prediksi benar:  14 data\n",
            "Prediksi salah:  6 data\n",
            "akurasi:  70.0 %\n"
          ],
          "name": "stdout"
        }
      ]
    }
  ]
}